{
 "cells": [
  {
   "cell_type": "markdown",
   "metadata": {},
   "source": [
    "## ADS06 - Assignment"
   ]
  },
  {
   "cell_type": "markdown",
   "metadata": {},
   "source": [
    "## Import Libraries"
   ]
  },
  {
   "cell_type": "code",
   "execution_count": 5,
   "metadata": {},
   "outputs": [],
   "source": [
    "import re\n",
    "import pandas as pd\n",
    "import urllib.request\n",
    "import zipfile\n",
    "import datetime\n",
    "from io import BytesIO"
   ]
  },
  {
   "cell_type": "code",
   "execution_count": 2,
   "metadata": {},
   "outputs": [],
   "source": [
    "%load_ext autoreload\n",
    "%autoreload 2"
   ]
  },
  {
   "cell_type": "code",
   "execution_count": 3,
   "metadata": {},
   "outputs": [],
   "source": [
    "import pyspark\n",
    "from pyspark.sql import SparkSession, functions\n",
    "from pyspark.sql.types import *"
   ]
  },
  {
   "cell_type": "markdown",
   "metadata": {},
   "source": [
    "## Import data from web"
   ]
  },
  {
   "cell_type": "code",
   "execution_count": null,
   "metadata": {},
   "outputs": [],
   "source": [
    "# DATASET_URL = \"https://s3-eu-west-1.amazonaws.com/kate-datasets/hackernews/HNStories.zip\"\n",
    "# DATA_DIR = \"data\""
   ]
  },
  {
   "cell_type": "code",
   "execution_count": null,
   "metadata": {},
   "outputs": [],
   "source": [
    "# req = urllib.request.urlopen(DATASET_URL)\n",
    "# data = BytesIO(req.read())"
   ]
  },
  {
   "cell_type": "code",
   "execution_count": null,
   "metadata": {},
   "outputs": [],
   "source": [
    "# with zipfile.ZipFile(data, \"r\") as zipref:\n",
    "#     zipref.extractall(DATA_DIR)"
   ]
  },
  {
   "cell_type": "markdown",
   "metadata": {},
   "source": [
    "## Import data local"
   ]
  },
  {
   "cell_type": "code",
   "execution_count": null,
   "metadata": {},
   "outputs": [],
   "source": [
    "filename = 'data/HNStories.json'\n",
    "spark = SparkSession.builder.getOrCreate()\n",
    "dataset = spark.read.json(filename)"
   ]
  },
  {
   "cell_type": "code",
   "execution_count": null,
   "metadata": {},
   "outputs": [],
   "source": [
    "dataset.show(n=5)"
   ]
  },
  {
   "cell_type": "code",
   "execution_count": null,
   "metadata": {},
   "outputs": [],
   "source": [
    "type(dataset)"
   ]
  },
  {
   "cell_type": "markdown",
   "metadata": {},
   "source": [
    "## `count_elements_in_dataset`"
   ]
  },
  {
   "cell_type": "code",
   "execution_count": null,
   "metadata": {},
   "outputs": [],
   "source": [
    "print(f'elements: {dataset.count()}')"
   ]
  },
  {
   "cell_type": "markdown",
   "metadata": {},
   "source": [
    "## `get_first_element`"
   ]
  },
  {
   "cell_type": "code",
   "execution_count": null,
   "metadata": {},
   "outputs": [],
   "source": [
    "dataset.first().asDict()"
   ]
  },
  {
   "cell_type": "code",
   "execution_count": null,
   "metadata": {},
   "outputs": [],
   "source": [
    "dataset2 = pyspark.SparkContext.getOrCreate().parallelize([{'author': 'alicesmith123', 'created_at': '2010-09-27T07:13:18Z', 'created_at_i': 1285571598, 'num_comments': 0, 'objectID': '1730982', 'points': 1, 'title': 'News Archive : Puma Shoes Outlet', 'url': 'http://www.pumasneakeronsale.com/news_archiv.html'}, {'author': 'jhony_d', 'created_at': '2012-09-26T20:54:18Z', 'created_at_i': 1348692858, 'num_comments': 0, 'objectID': '4577982', 'points': 2, 'title': 'Scuffgate: Will Apple have to recall the iPhone 5?', 'url': 'http://www.extremetech.com/electronics/136658-scuffgate-will-apple-have-to-recall-the-iphone-5'}, {'author': 'iulienel', 'created_at': '2012-07-17T20:03:35Z', 'created_at_i': 1342555415, 'num_comments': 0, 'objectID': '4257596', 'points': 1, 'title': 'Best Fiction Writing Books', 'url': 'http://www.fantasyscroll.com/fiction-writing-books/#.UAXFDq6YKC0.hackernews'}, {'author': 'RandallBrown', 'created_at': '2012-08-02T05:06:53Z', 'created_at_i': 1343884013, 'num_comments': 0, 'objectID': '4327375', 'points': 1, 'title': 'Your developers use your app more than anyone in the world', 'url': 'http://fredandrandall.com/blog/2012/08/02/your-developers-use-your-app-more-than-anyone-in-the-world/'}, {'author': 'rspitzer', 'created_at': '2013-08-19T18:24:11Z', 'created_at_i': 1376936651, 'num_comments': 1, 'objectID': '6238747', 'points': 4, 'title': 'NYC Founder Institute Q&A', 'url': 'http://blog.nextjump.com/post/58703252452/top-mentor-q-a-from-founder-institute'}, {'author': 'naish', 'created_at': '2008-04-03T00:08:15Z', 'created_at_i': 1207181295, 'num_comments': 1, 'objectID': '153472', 'points': 3, 'title': 'FAROO - Could P2P Search Change the Game?', 'url': 'http://www.readwriteweb.com/archives/faroo_could_p2p_search_change_the_game.php'}, {'author': 'telefoonmobiele', 'created_at': '2010-06-11T12:46:07Z', 'created_at_i': 1276260367, 'num_comments': 0, 'objectID': '1423633', 'points': 1, 'story_text': 'Zoals we zien meer en meer beelden van de aankomende BlackBerry Bold 9800 Slider, het maakt sommige mensen kwijlen in afwachting van het bedrijf op zoek naar de industrile ontworpen smartphone. RIM heeft een lange weg afgelegd in het bewerken van een aantal prachtige zoek handsets die universeel worden geprezen', 'title': 'BlackBerry Curve 9999 concept houdt een letterlijke benadering van het ontwerp', 'url': 'http://www.telefoonmobiele.nl/blackberry-curve-9999-concept-houdt-een-letterlijke-benadering-van-het-ontwerp'}, {'author': 'AndreyKarpov', 'created_at': '2013-02-13T06:01:22Z', 'created_at_i': 1360735282, 'num_comments': 0, 'objectID': '5211679', 'points': 1, 'title': 'WinRT Daily News', 'url': 'http://paper.li/xyzzer/1326489519'}, {'author': 'MarkFeffer', 'created_at': '2012-03-20T21:50:38Z', 'created_at_i': 1332280238, 'num_comments': 0, 'objectID': '3731849', 'points': 1, 'title': 'Asuss Transformer Prime Laptop Built for Speed', 'url': 'http://news.dice.com/2012/03/20/asus-transformer-prime/'}])"
   ]
  },
  {
   "cell_type": "code",
   "execution_count": null,
   "metadata": {},
   "outputs": [],
   "source": [
    "dataset2.first()"
   ]
  },
  {
   "cell_type": "markdown",
   "metadata": {},
   "source": [
    "## `get_all_attributes`"
   ]
  },
  {
   "cell_type": "code",
   "execution_count": null,
   "metadata": {},
   "outputs": [],
   "source": [
    "dataset = pyspark.SparkContext.getOrCreate().parallelize([{'author': 'kirillzubovsky', 'created_at': '2012-07-15T17:44:10Z', 'created_at_i': 1342374250, 'num_comments': 0, 'objectID': '4247497', 'points': 8, 'title': 'One gray morning did Internet Explorer 6 no longer load The Google...', 'url': 'http://www.mcsweeneys.net/articles/in-which-i-fix-my-girlfriends-grandparents-wifi-and-am-hailed-as-a-conquering-hero'}, {'author': 'dustinrodrigues', 'created_at': '2012-04-26T17:39:12Z', 'created_at_i': 1335461952, 'num_comments': 0, 'objectID': '3895130', 'points': 1, 'title': 'Travel-based Online Dating', 'url': 'http://www.misstravel.com/'}, {'author': 'chokolad', 'created_at': '2013-11-13T19:56:57Z', 'created_at_i': 1384372617, 'num_comments': 0, 'objectID': '6728006', 'points': 5, 'title': 'Functional Data Structures in C++: Lists ', 'url': 'http://bartoszmilewski.com/2013/11/13/functional-data-structures-in-c-lists/'}, {'author': 'ColinWright', 'created_at': '2013-07-17T09:46:16Z', 'created_at_i': 1374054376, 'num_comments': 30, 'objectID': '6056894', 'points': 93, 'title': 'C as an intermediate language (2012)', 'url': 'http://www.yosefk.com/blog/c-as-an-intermediate-language.html'}, {'author': 'dpapathanasiou', 'created_at': '2011-02-14T16:12:19Z', 'created_at_i': 1297699939, 'num_comments': 0, 'objectID': '2217257', 'points': 1, 'title': 'Never Have a Boss Again: How to Be a New Entrepreneur', 'url': 'http://www.details.com/culture-trends/critical-eye/201102/the-new-entrepreneur-big-idea-never-have-a-boss-again?printable=true'}])"
   ]
  },
  {
   "cell_type": "code",
   "execution_count": null,
   "metadata": {},
   "outputs": [],
   "source": [
    "dataset.collect()"
   ]
  },
  {
   "cell_type": "code",
   "execution_count": null,
   "metadata": {},
   "outputs": [],
   "source": [
    "attribute = []\n",
    "for _, data in enumerate(dataset.collect()):\n",
    "    for _, key in enumerate(data.keys()):\n",
    "        attribute.append(key)\n",
    "list(set(attribute))"
   ]
  },
  {
   "cell_type": "markdown",
   "metadata": {},
   "source": [
    "## `get_elements_w_same_attributes`"
   ]
  },
  {
   "cell_type": "code",
   "execution_count": null,
   "metadata": {},
   "outputs": [],
   "source": [
    "dataset = pyspark.SparkContext.getOrCreate().parallelize([{'author': 'alicesmith123', 'created_at': '2010-09-27T07:13:18Z', 'created_at_i': 1285571598, 'num_comments': 0, 'objectID': '1730982', 'points': 1, 'title': 'News Archive : Puma Shoes Outlet', 'url': 'http://www.pumasneakeronsale.com/news_archiv.html'}, {'author': 'jhony_d', 'created_at': '2012-09-26T20:54:18Z', 'created_at_i': 1348692858, 'num_comments': 0, 'objectID': '4577982', 'points': 2, 'title': 'Scuffgate: Will Apple have to recall the iPhone 5?', 'url': 'http://www.extremetech.com/electronics/136658-scuffgate-will-apple-have-to-recall-the-iphone-5'}, {'author': 'iulienel', 'created_at': '2012-07-17T20:03:35Z', 'created_at_i': 1342555415, 'num_comments': 0, 'objectID': '4257596', 'points': 1, 'title': 'Best Fiction Writing Books', 'url': 'http://www.fantasyscroll.com/fiction-writing-books/#.UAXFDq6YKC0.hackernews'}, {'author': 'RandallBrown', 'created_at': '2012-08-02T05:06:53Z', 'created_at_i': 1343884013, 'num_comments': 0, 'objectID': '4327375', 'points': 1, 'title': 'Your developers use your app more than anyone in the world', 'url': 'http://fredandrandall.com/blog/2012/08/02/your-developers-use-your-app-more-than-anyone-in-the-world/'}, {'author': 'rspitzer', 'created_at': '2013-08-19T18:24:11Z', 'created_at_i': 1376936651, 'num_comments': 1, 'objectID': '6238747', 'points': 4, 'title': 'NYC Founder Institute Q&A', 'url': 'http://blog.nextjump.com/post/58703252452/top-mentor-q-a-from-founder-institute'}, {'author': 'naish', 'created_at': '2008-04-03T00:08:15Z', 'created_at_i': 1207181295, 'num_comments': 1, 'objectID': '153472', 'points': 3, 'title': 'FAROO - Could P2P Search Change the Game?', 'url': 'http://www.readwriteweb.com/archives/faroo_could_p2p_search_change_the_game.php'}, {'author': 'telefoonmobiele', 'created_at': '2010-06-11T12:46:07Z', 'created_at_i': 1276260367, 'num_comments': 0, 'objectID': '1423633', 'points': 1, 'story_text': 'Zoals we zien meer en meer beelden van de aankomende BlackBerry Bold 9800 Slider, het maakt sommige mensen kwijlen in afwachting van het bedrijf op zoek naar de industrile ontworpen smartphone. RIM heeft een lange weg afgelegd in het bewerken van een aantal prachtige zoek handsets die universeel worden geprezen', 'title': 'BlackBerry Curve 9999 concept houdt een letterlijke benadering van het ontwerp', 'url': 'http://www.telefoonmobiele.nl/blackberry-curve-9999-concept-houdt-een-letterlijke-benadering-van-het-ontwerp'}, {'author': 'AndreyKarpov', 'created_at': '2013-02-13T06:01:22Z', 'created_at_i': 1360735282, 'num_comments': 0, 'objectID': '5211679', 'points': 1, 'title': 'WinRT Daily News', 'url': 'http://paper.li/xyzzer/1326489519'}, {'author': 'MarkFeffer', 'created_at': '2012-03-20T21:50:38Z', 'created_at_i': 1332280238, 'num_comments': 0, 'objectID': '3731849', 'points': 1, 'title': 'Asuss Transformer Prime Laptop Built for Speed', 'url': 'http://news.dice.com/2012/03/20/asus-transformer-prime/'}])"
   ]
  },
  {
   "cell_type": "code",
   "execution_count": null,
   "metadata": {},
   "outputs": [],
   "source": [
    "dataset.collect()"
   ]
  },
  {
   "cell_type": "code",
   "execution_count": null,
   "metadata": {},
   "outputs": [],
   "source": [
    "attributes = list(dataset.first().keys())\n",
    "attributes"
   ]
  },
  {
   "cell_type": "code",
   "execution_count": null,
   "metadata": {},
   "outputs": [],
   "source": [
    "dataset.filter(lambda x: list(x.keys()) == attributes).collect()"
   ]
  },
  {
   "cell_type": "markdown",
   "metadata": {},
   "source": [
    "## `get_min_max_timestamps`"
   ]
  },
  {
   "cell_type": "code",
   "execution_count": null,
   "metadata": {},
   "outputs": [],
   "source": [
    "dataset = pyspark.SparkContext.getOrCreate().parallelize([{'author': 'alicesmith123', 'created_at': '2010-09-27T07:13:18Z', 'created_at_i': 1285571598, 'num_comments': 0, 'objectID': '1730982', 'points': 1, 'title': 'News Archive : Puma Shoes Outlet', 'url': 'http://www.pumasneakeronsale.com/news_archiv.html'}, {'author': 'jhony_d', 'created_at': '2012-09-26T20:54:18Z', 'created_at_i': 1348692858, 'num_comments': 0, 'objectID': '4577982', 'points': 2, 'title': 'Scuffgate: Will Apple have to recall the iPhone 5?', 'url': 'http://www.extremetech.com/electronics/136658-scuffgate-will-apple-have-to-recall-the-iphone-5'}, {'author': 'iulienel', 'created_at': '2012-07-17T20:03:35Z', 'created_at_i': 1342555415, 'num_comments': 0, 'objectID': '4257596', 'points': 1, 'title': 'Best Fiction Writing Books', 'url': 'http://www.fantasyscroll.com/fiction-writing-books/#.UAXFDq6YKC0.hackernews'}, {'author': 'RandallBrown', 'created_at': '2012-08-02T05:06:53Z', 'created_at_i': 1343884013, 'num_comments': 0, 'objectID': '4327375', 'points': 1, 'title': 'Your developers use your app more than anyone in the world', 'url': 'http://fredandrandall.com/blog/2012/08/02/your-developers-use-your-app-more-than-anyone-in-the-world/'}, {'author': 'rspitzer', 'created_at': '2013-08-19T18:24:11Z', 'created_at_i': 1376936651, 'num_comments': 1, 'objectID': '6238747', 'points': 4, 'title': 'NYC Founder Institute Q&A', 'url': 'http://blog.nextjump.com/post/58703252452/top-mentor-q-a-from-founder-institute'}, {'author': 'naish', 'created_at': '2008-04-03T00:08:15Z', 'created_at_i': 1207181295, 'num_comments': 1, 'objectID': '153472', 'points': 3, 'title': 'FAROO - Could P2P Search Change the Game?', 'url': 'http://www.readwriteweb.com/archives/faroo_could_p2p_search_change_the_game.php'}, {'author': 'telefoonmobiele', 'created_at': '2010-06-11T12:46:07Z', 'created_at_i': 1276260367, 'num_comments': 0, 'objectID': '1423633', 'points': 1, 'story_text': 'Zoals we zien meer en meer beelden van de aankomende BlackBerry Bold 9800 Slider, het maakt sommige mensen kwijlen in afwachting van het bedrijf op zoek naar de industrile ontworpen smartphone. RIM heeft een lange weg afgelegd in het bewerken van een aantal prachtige zoek handsets die universeel worden geprezen', 'title': 'BlackBerry Curve 9999 concept houdt een letterlijke benadering van het ontwerp', 'url': 'http://www.telefoonmobiele.nl/blackberry-curve-9999-concept-houdt-een-letterlijke-benadering-van-het-ontwerp'}, {'author': 'AndreyKarpov', 'created_at': '2013-02-13T06:01:22Z', 'created_at_i': 1360735282, 'num_comments': 0, 'objectID': '5211679', 'points': 1, 'title': 'WinRT Daily News', 'url': 'http://paper.li/xyzzer/1326489519'}, {'author': 'MarkFeffer', 'created_at': '2012-03-20T21:50:38Z', 'created_at_i': 1332280238, 'num_comments': 0, 'objectID': '3731849', 'points': 1, 'title': 'Asuss Transformer Prime Laptop Built for Speed', 'url': 'http://news.dice.com/2012/03/20/asus-transformer-prime/'}])"
   ]
  },
  {
   "cell_type": "code",
   "execution_count": null,
   "metadata": {},
   "outputs": [],
   "source": [
    "dataset.first()"
   ]
  },
  {
   "cell_type": "code",
   "execution_count": null,
   "metadata": {},
   "outputs": [],
   "source": [
    "min = dataset.map(lambda x: x['created_at']).reduce(lambda x, y: x if x<y else y)\n",
    "max = dataset.map(lambda x: x['created_at']).reduce(lambda x, y: x if x>y else y)"
   ]
  },
  {
   "cell_type": "code",
   "execution_count": null,
   "metadata": {},
   "outputs": [],
   "source": [
    "min_date = datetime.datetime.strptime(min, '%Y-%m-%dT%H:%M:%SZ')\n",
    "max_date = datetime.datetime.strptime(max, '%Y-%m-%dT%H:%M:%SZ')"
   ]
  },
  {
   "cell_type": "code",
   "execution_count": null,
   "metadata": {},
   "outputs": [],
   "source": [
    "(min_date, max_date)"
   ]
  },
  {
   "cell_type": "markdown",
   "metadata": {},
   "source": [
    "## `get_number_of_posts_per_bucket`"
   ]
  },
  {
   "cell_type": "code",
   "execution_count": 6,
   "metadata": {},
   "outputs": [],
   "source": [
    "dataset = pyspark.SparkContext.getOrCreate().parallelize([{'author': 'alicesmith123', 'created_at': '2010-09-27T07:13:18Z', 'created_at_i': 1285571598, 'num_comments': 0, 'objectID': '1730982', 'points': 1, 'title': 'News Archive : Puma Shoes Outlet', 'url': 'http://www.pumasneakeronsale.com/news_archiv.html'}, {'author': 'jhony_d', 'created_at': '2012-09-26T20:54:18Z', 'created_at_i': 1348692858, 'num_comments': 0, 'objectID': '4577982', 'points': 2, 'title': 'Scuffgate: Will Apple have to recall the iPhone 5?', 'url': 'http://www.extremetech.com/electronics/136658-scuffgate-will-apple-have-to-recall-the-iphone-5'}, {'author': 'iulienel', 'created_at': '2012-07-17T20:03:35Z', 'created_at_i': 1342555415, 'num_comments': 0, 'objectID': '4257596', 'points': 1, 'title': 'Best Fiction Writing Books', 'url': 'http://www.fantasyscroll.com/fiction-writing-books/#.UAXFDq6YKC0.hackernews'}, {'author': 'RandallBrown', 'created_at': '2012-08-02T05:06:53Z', 'created_at_i': 1343884013, 'num_comments': 0, 'objectID': '4327375', 'points': 1, 'title': 'Your developers use your app more than anyone in the world', 'url': 'http://fredandrandall.com/blog/2012/08/02/your-developers-use-your-app-more-than-anyone-in-the-world/'}, {'author': 'rspitzer', 'created_at': '2013-08-19T18:24:11Z', 'created_at_i': 1376936651, 'num_comments': 1, 'objectID': '6238747', 'points': 4, 'title': 'NYC Founder Institute Q&A', 'url': 'http://blog.nextjump.com/post/58703252452/top-mentor-q-a-from-founder-institute'}, {'author': 'naish', 'created_at': '2008-04-03T00:08:15Z', 'created_at_i': 1207181295, 'num_comments': 1, 'objectID': '153472', 'points': 3, 'title': 'FAROO - Could P2P Search Change the Game?', 'url': 'http://www.readwriteweb.com/archives/faroo_could_p2p_search_change_the_game.php'}, {'author': 'telefoonmobiele', 'created_at': '2010-06-11T12:46:07Z', 'created_at_i': 1276260367, 'num_comments': 0, 'objectID': '1423633', 'points': 1, 'story_text': 'Zoals we zien meer en meer beelden van de aankomende BlackBerry Bold 9800 Slider, het maakt sommige mensen kwijlen in afwachting van het bedrijf op zoek naar de industrile ontworpen smartphone. RIM heeft een lange weg afgelegd in het bewerken van een aantal prachtige zoek handsets die universeel worden geprezen', 'title': 'BlackBerry Curve 9999 concept houdt een letterlijke benadering van het ontwerp', 'url': 'http://www.telefoonmobiele.nl/blackberry-curve-9999-concept-houdt-een-letterlijke-benadering-van-het-ontwerp'}, {'author': 'AndreyKarpov', 'created_at': '2013-02-13T06:01:22Z', 'created_at_i': 1360735282, 'num_comments': 0, 'objectID': '5211679', 'points': 1, 'title': 'WinRT Daily News', 'url': 'http://paper.li/xyzzer/1326489519'}, {'author': 'MarkFeffer', 'created_at': '2012-03-20T21:50:38Z', 'created_at_i': 1332280238, 'num_comments': 0, 'objectID': '3731849', 'points': 1, 'title': 'Asuss Transformer Prime Laptop Built for Speed', 'url': 'http://news.dice.com/2012/03/20/asus-transformer-prime/'}])\n",
    "max_time = datetime.datetime(2011, 4, 7, 13, 55, 7)\n",
    "min_time = datetime.datetime(2007, 8, 11, 6, 50, 53)"
   ]
  },
  {
   "cell_type": "code",
   "execution_count": 7,
   "metadata": {},
   "outputs": [
    {
     "data": {
      "text/plain": [
       "{'author': 'alicesmith123',\n",
       " 'created_at': '2010-09-27T07:13:18Z',\n",
       " 'created_at_i': 1285571598,\n",
       " 'num_comments': 0,\n",
       " 'objectID': '1730982',\n",
       " 'points': 1,\n",
       " 'title': 'News Archive : Puma Shoes Outlet',\n",
       " 'url': 'http://www.pumasneakeronsale.com/news_archiv.html'}"
      ]
     },
     "execution_count": 7,
     "metadata": {},
     "output_type": "execute_result"
    }
   ],
   "source": [
    "dataset.first()"
   ]
  },
  {
   "cell_type": "code",
   "execution_count": 15,
   "metadata": {},
   "outputs": [],
   "source": [
    "def get_bucket(rec, min_timestamp, max_timestamp):\n",
    "    min_timestamp = datetime.datetime.timestamp(min_timestamp)\n",
    "    max_timestamp = datetime.datetime.timestamp(max_timestamp)\n",
    "    interval = (max_timestamp - min_timestamp + 1) / 200.0\n",
    "    rec['bucket'] = int((rec[\"created_at_i\"] - min_timestamp) / interval)\n",
    "    return rec"
   ]
  },
  {
   "cell_type": "code",
   "execution_count": 19,
   "metadata": {},
   "outputs": [
    {
     "data": {
      "text/plain": [
       "{'author': 'alicesmith123',\n",
       " 'created_at': '2010-09-27T07:13:18Z',\n",
       " 'created_at_i': 1285571598,\n",
       " 'num_comments': 0,\n",
       " 'objectID': '1730982',\n",
       " 'points': 1,\n",
       " 'title': 'News Archive : Puma Shoes Outlet',\n",
       " 'url': 'http://www.pumasneakeronsale.com/news_archiv.html',\n",
       " 'bucket': 171}"
      ]
     },
     "execution_count": 19,
     "metadata": {},
     "output_type": "execute_result"
    }
   ],
   "source": [
    "A = dataset.map(lambda x: get_bucket(x, min_time, max_time))\n",
    "A.first()"
   ]
  },
  {
   "cell_type": "code",
   "execution_count": 20,
   "metadata": {},
   "outputs": [
    {
     "data": {
      "text/plain": [
       "[(171, 1),\n",
       " (280, 1),\n",
       " (269, 1),\n",
       " (272, 1),\n",
       " (329, 1),\n",
       " (35, 1),\n",
       " (155, 1),\n",
       " (301, 1),\n",
       " (252, 1)]"
      ]
     },
     "execution_count": 20,
     "metadata": {},
     "output_type": "execute_result"
    }
   ],
   "source": [
    "B = A.map(lambda x: (x['bucket'], 1))\n",
    "B.take(10)"
   ]
  },
  {
   "cell_type": "code",
   "execution_count": 21,
   "metadata": {},
   "outputs": [
    {
     "data": {
      "text/plain": [
       "[(280, 1),\n",
       " (272, 1),\n",
       " (329, 1),\n",
       " (171, 1),\n",
       " (35, 1),\n",
       " (155, 1),\n",
       " (252, 1),\n",
       " (269, 1),\n",
       " (301, 1)]"
      ]
     },
     "execution_count": 21,
     "metadata": {},
     "output_type": "execute_result"
    }
   ],
   "source": [
    "C = B.reduceByKey(lambda x, y: x+y)\n",
    "C.take(10)"
   ]
  },
  {
   "cell_type": "markdown",
   "metadata": {},
   "source": [
    "## `get_number_of_posts_per_hour`"
   ]
  },
  {
   "cell_type": "code",
   "execution_count": 85,
   "metadata": {},
   "outputs": [],
   "source": [
    "dataset = pyspark.SparkContext.getOrCreate().parallelize([{'author': 'alicesmith123', 'created_at': '2010-09-27T07:13:18Z', 'created_at_i': 1285571598, 'num_comments': 0, 'objectID': '1730982', 'points': 1, 'title': 'News Archive : Puma Shoes Outlet', 'url': 'http://www.pumasneakeronsale.com/news_archiv.html'}, {'author': 'jhony_d', 'created_at': '2012-09-26T20:54:18Z', 'created_at_i': 1348692858, 'num_comments': 0, 'objectID': '4577982', 'points': 2, 'title': 'Scuffgate: Will Apple have to recall the iPhone 5?', 'url': 'http://www.extremetech.com/electronics/136658-scuffgate-will-apple-have-to-recall-the-iphone-5'}, {'author': 'iulienel', 'created_at': '2012-07-17T20:03:35Z', 'created_at_i': 1342555415, 'num_comments': 0, 'objectID': '4257596', 'points': 1, 'title': 'Best Fiction Writing Books', 'url': 'http://www.fantasyscroll.com/fiction-writing-books/#.UAXFDq6YKC0.hackernews'}, {'author': 'RandallBrown', 'created_at': '2012-08-02T05:06:53Z', 'created_at_i': 1343884013, 'num_comments': 0, 'objectID': '4327375', 'points': 1, 'title': 'Your developers use your app more than anyone in the world', 'url': 'http://fredandrandall.com/blog/2012/08/02/your-developers-use-your-app-more-than-anyone-in-the-world/'}, {'author': 'rspitzer', 'created_at': '2013-08-19T18:24:11Z', 'created_at_i': 1376936651, 'num_comments': 1, 'objectID': '6238747', 'points': 4, 'title': 'NYC Founder Institute Q&A', 'url': 'http://blog.nextjump.com/post/58703252452/top-mentor-q-a-from-founder-institute'}, {'author': 'naish', 'created_at': '2008-04-03T00:08:15Z', 'created_at_i': 1207181295, 'num_comments': 1, 'objectID': '153472', 'points': 3, 'title': 'FAROO - Could P2P Search Change the Game?', 'url': 'http://www.readwriteweb.com/archives/faroo_could_p2p_search_change_the_game.php'}, {'author': 'telefoonmobiele', 'created_at': '2010-06-11T12:46:07Z', 'created_at_i': 1276260367, 'num_comments': 0, 'objectID': '1423633', 'points': 1, 'story_text': 'Zoals we zien meer en meer beelden van de aankomende BlackBerry Bold 9800 Slider, het maakt sommige mensen kwijlen in afwachting van het bedrijf op zoek naar de industrile ontworpen smartphone. RIM heeft een lange weg afgelegd in het bewerken van een aantal prachtige zoek handsets die universeel worden geprezen', 'title': 'BlackBerry Curve 9999 concept houdt een letterlijke benadering van het ontwerp', 'url': 'http://www.telefoonmobiele.nl/blackberry-curve-9999-concept-houdt-een-letterlijke-benadering-van-het-ontwerp'}, {'author': 'AndreyKarpov', 'created_at': '2013-02-13T06:01:22Z', 'created_at_i': 1360735282, 'num_comments': 0, 'objectID': '5211679', 'points': 1, 'title': 'WinRT Daily News', 'url': 'http://paper.li/xyzzer/1326489519'}, {'author': 'MarkFeffer', 'created_at': '2012-03-20T21:50:38Z', 'created_at_i': 1332280238, 'num_comments': 0, 'objectID': '3731849', 'points': 1, 'title': 'Asuss Transformer Prime Laptop Built for Speed', 'url': 'http://news.dice.com/2012/03/20/asus-transformer-prime/'}])"
   ]
  },
  {
   "cell_type": "code",
   "execution_count": 86,
   "metadata": {},
   "outputs": [
    {
     "data": {
      "text/plain": [
       "[{'author': 'alicesmith123',\n",
       "  'created_at': '2010-09-27T07:13:18Z',\n",
       "  'created_at_i': 1285571598,\n",
       "  'num_comments': 0,\n",
       "  'objectID': '1730982',\n",
       "  'points': 1,\n",
       "  'title': 'News Archive : Puma Shoes Outlet',\n",
       "  'url': 'http://www.pumasneakeronsale.com/news_archiv.html'},\n",
       " {'author': 'jhony_d',\n",
       "  'created_at': '2012-09-26T20:54:18Z',\n",
       "  'created_at_i': 1348692858,\n",
       "  'num_comments': 0,\n",
       "  'objectID': '4577982',\n",
       "  'points': 2,\n",
       "  'title': 'Scuffgate: Will Apple have to recall the iPhone 5?',\n",
       "  'url': 'http://www.extremetech.com/electronics/136658-scuffgate-will-apple-have-to-recall-the-iphone-5'},\n",
       " {'author': 'iulienel',\n",
       "  'created_at': '2012-07-17T20:03:35Z',\n",
       "  'created_at_i': 1342555415,\n",
       "  'num_comments': 0,\n",
       "  'objectID': '4257596',\n",
       "  'points': 1,\n",
       "  'title': 'Best Fiction Writing Books',\n",
       "  'url': 'http://www.fantasyscroll.com/fiction-writing-books/#.UAXFDq6YKC0.hackernews'},\n",
       " {'author': 'RandallBrown',\n",
       "  'created_at': '2012-08-02T05:06:53Z',\n",
       "  'created_at_i': 1343884013,\n",
       "  'num_comments': 0,\n",
       "  'objectID': '4327375',\n",
       "  'points': 1,\n",
       "  'title': 'Your developers use your app more than anyone in the world',\n",
       "  'url': 'http://fredandrandall.com/blog/2012/08/02/your-developers-use-your-app-more-than-anyone-in-the-world/'},\n",
       " {'author': 'rspitzer',\n",
       "  'created_at': '2013-08-19T18:24:11Z',\n",
       "  'created_at_i': 1376936651,\n",
       "  'num_comments': 1,\n",
       "  'objectID': '6238747',\n",
       "  'points': 4,\n",
       "  'title': 'NYC Founder Institute Q&A',\n",
       "  'url': 'http://blog.nextjump.com/post/58703252452/top-mentor-q-a-from-founder-institute'},\n",
       " {'author': 'naish',\n",
       "  'created_at': '2008-04-03T00:08:15Z',\n",
       "  'created_at_i': 1207181295,\n",
       "  'num_comments': 1,\n",
       "  'objectID': '153472',\n",
       "  'points': 3,\n",
       "  'title': 'FAROO - Could P2P Search Change the Game?',\n",
       "  'url': 'http://www.readwriteweb.com/archives/faroo_could_p2p_search_change_the_game.php'},\n",
       " {'author': 'telefoonmobiele',\n",
       "  'created_at': '2010-06-11T12:46:07Z',\n",
       "  'created_at_i': 1276260367,\n",
       "  'num_comments': 0,\n",
       "  'objectID': '1423633',\n",
       "  'points': 1,\n",
       "  'story_text': 'Zoals we zien meer en meer beelden van de aankomende BlackBerry Bold 9800 Slider, het maakt sommige mensen kwijlen in afwachting van het bedrijf op zoek naar de industrile ontworpen smartphone. RIM heeft een lange weg afgelegd in het bewerken van een aantal prachtige zoek handsets die universeel worden geprezen',\n",
       "  'title': 'BlackBerry Curve 9999 concept houdt een letterlijke benadering van het ontwerp',\n",
       "  'url': 'http://www.telefoonmobiele.nl/blackberry-curve-9999-concept-houdt-een-letterlijke-benadering-van-het-ontwerp'},\n",
       " {'author': 'AndreyKarpov',\n",
       "  'created_at': '2013-02-13T06:01:22Z',\n",
       "  'created_at_i': 1360735282,\n",
       "  'num_comments': 0,\n",
       "  'objectID': '5211679',\n",
       "  'points': 1,\n",
       "  'title': 'WinRT Daily News',\n",
       "  'url': 'http://paper.li/xyzzer/1326489519'},\n",
       " {'author': 'MarkFeffer',\n",
       "  'created_at': '2012-03-20T21:50:38Z',\n",
       "  'created_at_i': 1332280238,\n",
       "  'num_comments': 0,\n",
       "  'objectID': '3731849',\n",
       "  'points': 1,\n",
       "  'title': 'Asuss Transformer Prime Laptop Built for Speed',\n",
       "  'url': 'http://news.dice.com/2012/03/20/asus-transformer-prime/'}]"
      ]
     },
     "execution_count": 86,
     "metadata": {},
     "output_type": "execute_result"
    }
   ],
   "source": [
    "dataset.collect()"
   ]
  },
  {
   "cell_type": "code",
   "execution_count": 87,
   "metadata": {},
   "outputs": [],
   "source": [
    "def get_hour(x):\n",
    "    x['hour'] = datetime.datetime.strptime(x['created_at'], '%Y-%m-%dT%H:%M:%SZ').hour\n",
    "    return x"
   ]
  },
  {
   "cell_type": "code",
   "execution_count": 88,
   "metadata": {},
   "outputs": [
    {
     "data": {
      "text/plain": [
       "[{'author': 'alicesmith123',\n",
       "  'created_at': '2010-09-27T07:13:18Z',\n",
       "  'created_at_i': 1285571598,\n",
       "  'num_comments': 0,\n",
       "  'objectID': '1730982',\n",
       "  'points': 1,\n",
       "  'title': 'News Archive : Puma Shoes Outlet',\n",
       "  'url': 'http://www.pumasneakeronsale.com/news_archiv.html',\n",
       "  'hour': 7},\n",
       " {'author': 'jhony_d',\n",
       "  'created_at': '2012-09-26T20:54:18Z',\n",
       "  'created_at_i': 1348692858,\n",
       "  'num_comments': 0,\n",
       "  'objectID': '4577982',\n",
       "  'points': 2,\n",
       "  'title': 'Scuffgate: Will Apple have to recall the iPhone 5?',\n",
       "  'url': 'http://www.extremetech.com/electronics/136658-scuffgate-will-apple-have-to-recall-the-iphone-5',\n",
       "  'hour': 20},\n",
       " {'author': 'iulienel',\n",
       "  'created_at': '2012-07-17T20:03:35Z',\n",
       "  'created_at_i': 1342555415,\n",
       "  'num_comments': 0,\n",
       "  'objectID': '4257596',\n",
       "  'points': 1,\n",
       "  'title': 'Best Fiction Writing Books',\n",
       "  'url': 'http://www.fantasyscroll.com/fiction-writing-books/#.UAXFDq6YKC0.hackernews',\n",
       "  'hour': 20},\n",
       " {'author': 'RandallBrown',\n",
       "  'created_at': '2012-08-02T05:06:53Z',\n",
       "  'created_at_i': 1343884013,\n",
       "  'num_comments': 0,\n",
       "  'objectID': '4327375',\n",
       "  'points': 1,\n",
       "  'title': 'Your developers use your app more than anyone in the world',\n",
       "  'url': 'http://fredandrandall.com/blog/2012/08/02/your-developers-use-your-app-more-than-anyone-in-the-world/',\n",
       "  'hour': 5},\n",
       " {'author': 'rspitzer',\n",
       "  'created_at': '2013-08-19T18:24:11Z',\n",
       "  'created_at_i': 1376936651,\n",
       "  'num_comments': 1,\n",
       "  'objectID': '6238747',\n",
       "  'points': 4,\n",
       "  'title': 'NYC Founder Institute Q&A',\n",
       "  'url': 'http://blog.nextjump.com/post/58703252452/top-mentor-q-a-from-founder-institute',\n",
       "  'hour': 18},\n",
       " {'author': 'naish',\n",
       "  'created_at': '2008-04-03T00:08:15Z',\n",
       "  'created_at_i': 1207181295,\n",
       "  'num_comments': 1,\n",
       "  'objectID': '153472',\n",
       "  'points': 3,\n",
       "  'title': 'FAROO - Could P2P Search Change the Game?',\n",
       "  'url': 'http://www.readwriteweb.com/archives/faroo_could_p2p_search_change_the_game.php',\n",
       "  'hour': 0},\n",
       " {'author': 'telefoonmobiele',\n",
       "  'created_at': '2010-06-11T12:46:07Z',\n",
       "  'created_at_i': 1276260367,\n",
       "  'num_comments': 0,\n",
       "  'objectID': '1423633',\n",
       "  'points': 1,\n",
       "  'story_text': 'Zoals we zien meer en meer beelden van de aankomende BlackBerry Bold 9800 Slider, het maakt sommige mensen kwijlen in afwachting van het bedrijf op zoek naar de industrile ontworpen smartphone. RIM heeft een lange weg afgelegd in het bewerken van een aantal prachtige zoek handsets die universeel worden geprezen',\n",
       "  'title': 'BlackBerry Curve 9999 concept houdt een letterlijke benadering van het ontwerp',\n",
       "  'url': 'http://www.telefoonmobiele.nl/blackberry-curve-9999-concept-houdt-een-letterlijke-benadering-van-het-ontwerp',\n",
       "  'hour': 12},\n",
       " {'author': 'AndreyKarpov',\n",
       "  'created_at': '2013-02-13T06:01:22Z',\n",
       "  'created_at_i': 1360735282,\n",
       "  'num_comments': 0,\n",
       "  'objectID': '5211679',\n",
       "  'points': 1,\n",
       "  'title': 'WinRT Daily News',\n",
       "  'url': 'http://paper.li/xyzzer/1326489519',\n",
       "  'hour': 6},\n",
       " {'author': 'MarkFeffer',\n",
       "  'created_at': '2012-03-20T21:50:38Z',\n",
       "  'created_at_i': 1332280238,\n",
       "  'num_comments': 0,\n",
       "  'objectID': '3731849',\n",
       "  'points': 1,\n",
       "  'title': 'Asuss Transformer Prime Laptop Built for Speed',\n",
       "  'url': 'http://news.dice.com/2012/03/20/asus-transformer-prime/',\n",
       "  'hour': 21}]"
      ]
     },
     "execution_count": 88,
     "metadata": {},
     "output_type": "execute_result"
    }
   ],
   "source": [
    "ds = dataset.map(lambda x: get_hour(x))\n",
    "ds.collect()"
   ]
  },
  {
   "cell_type": "code",
   "execution_count": 89,
   "metadata": {},
   "outputs": [
    {
     "data": {
      "text/plain": [
       "[(7, 1), (20, 1), (20, 1), (5, 1), (18, 1), (0, 1), (12, 1), (6, 1), (21, 1)]"
      ]
     },
     "execution_count": 89,
     "metadata": {},
     "output_type": "execute_result"
    }
   ],
   "source": [
    "hour_rdd = ds.map(lambda x: (x['hour'], 1))\n",
    "hour_rdd.collect()"
   ]
  },
  {
   "cell_type": "code",
   "execution_count": 90,
   "metadata": {},
   "outputs": [],
   "source": [
    "out = hour_rdd.reduceByKey(lambda c1, c2: c1 + c2)"
   ]
  },
  {
   "cell_type": "code",
   "execution_count": 91,
   "metadata": {},
   "outputs": [
    {
     "data": {
      "text/plain": [
       "[(0, 1), (18, 1), (20, 2), (12, 1), (5, 1), (21, 1), (6, 1), (7, 1)]"
      ]
     },
     "execution_count": 91,
     "metadata": {},
     "output_type": "execute_result"
    }
   ],
   "source": [
    "out.collect()"
   ]
  },
  {
   "cell_type": "markdown",
   "metadata": {},
   "source": [
    "## `get_score_per_hour`"
   ]
  },
  {
   "cell_type": "code",
   "execution_count": 92,
   "metadata": {},
   "outputs": [],
   "source": [
    "dataset = pyspark.SparkContext.getOrCreate().parallelize([{'author': 'alicesmith123', 'created_at': '2010-09-27T07:13:18Z', 'created_at_i': 1285571598, 'num_comments': 0, 'objectID': '1730982', 'points': 1, 'title': 'News Archive : Puma Shoes Outlet', 'url': 'http://www.pumasneakeronsale.com/news_archiv.html'}, {'author': 'jhony_d', 'created_at': '2012-09-26T20:54:18Z', 'created_at_i': 1348692858, 'num_comments': 0, 'objectID': '4577982', 'points': 2, 'title': 'Scuffgate: Will Apple have to recall the iPhone 5?', 'url': 'http://www.extremetech.com/electronics/136658-scuffgate-will-apple-have-to-recall-the-iphone-5'}, {'author': 'iulienel', 'created_at': '2012-07-17T20:03:35Z', 'created_at_i': 1342555415, 'num_comments': 0, 'objectID': '4257596', 'points': 1, 'title': 'Best Fiction Writing Books', 'url': 'http://www.fantasyscroll.com/fiction-writing-books/#.UAXFDq6YKC0.hackernews'}, {'author': 'RandallBrown', 'created_at': '2012-08-02T05:06:53Z', 'created_at_i': 1343884013, 'num_comments': 0, 'objectID': '4327375', 'points': 1, 'title': 'Your developers use your app more than anyone in the world', 'url': 'http://fredandrandall.com/blog/2012/08/02/your-developers-use-your-app-more-than-anyone-in-the-world/'}, {'author': 'rspitzer', 'created_at': '2013-08-19T18:24:11Z', 'created_at_i': 1376936651, 'num_comments': 1, 'objectID': '6238747', 'points': 4, 'title': 'NYC Founder Institute Q&A', 'url': 'http://blog.nextjump.com/post/58703252452/top-mentor-q-a-from-founder-institute'}, {'author': 'naish', 'created_at': '2008-04-03T00:08:15Z', 'created_at_i': 1207181295, 'num_comments': 1, 'objectID': '153472', 'points': 3, 'title': 'FAROO - Could P2P Search Change the Game?', 'url': 'http://www.readwriteweb.com/archives/faroo_could_p2p_search_change_the_game.php'}, {'author': 'telefoonmobiele', 'created_at': '2010-06-11T12:46:07Z', 'created_at_i': 1276260367, 'num_comments': 0, 'objectID': '1423633', 'points': 1, 'story_text': 'Zoals we zien meer en meer beelden van de aankomende BlackBerry Bold 9800 Slider, het maakt sommige mensen kwijlen in afwachting van het bedrijf op zoek naar de industrile ontworpen smartphone. RIM heeft een lange weg afgelegd in het bewerken van een aantal prachtige zoek handsets die universeel worden geprezen', 'title': 'BlackBerry Curve 9999 concept houdt een letterlijke benadering van het ontwerp', 'url': 'http://www.telefoonmobiele.nl/blackberry-curve-9999-concept-houdt-een-letterlijke-benadering-van-het-ontwerp'}, {'author': 'AndreyKarpov', 'created_at': '2013-02-13T06:01:22Z', 'created_at_i': 1360735282, 'num_comments': 0, 'objectID': '5211679', 'points': 1, 'title': 'WinRT Daily News', 'url': 'http://paper.li/xyzzer/1326489519'}, {'author': 'MarkFeffer', 'created_at': '2012-03-20T21:50:38Z', 'created_at_i': 1332280238, 'num_comments': 0, 'objectID': '3731849', 'points': 1, 'title': 'Asuss Transformer Prime Laptop Built for Speed', 'url': 'http://news.dice.com/2012/03/20/asus-transformer-prime/'}])"
   ]
  },
  {
   "cell_type": "code",
   "execution_count": 93,
   "metadata": {},
   "outputs": [
    {
     "data": {
      "text/plain": [
       "[{'author': 'alicesmith123',\n",
       "  'created_at': '2010-09-27T07:13:18Z',\n",
       "  'created_at_i': 1285571598,\n",
       "  'num_comments': 0,\n",
       "  'objectID': '1730982',\n",
       "  'points': 1,\n",
       "  'title': 'News Archive : Puma Shoes Outlet',\n",
       "  'url': 'http://www.pumasneakeronsale.com/news_archiv.html',\n",
       "  'hour': 7},\n",
       " {'author': 'jhony_d',\n",
       "  'created_at': '2012-09-26T20:54:18Z',\n",
       "  'created_at_i': 1348692858,\n",
       "  'num_comments': 0,\n",
       "  'objectID': '4577982',\n",
       "  'points': 2,\n",
       "  'title': 'Scuffgate: Will Apple have to recall the iPhone 5?',\n",
       "  'url': 'http://www.extremetech.com/electronics/136658-scuffgate-will-apple-have-to-recall-the-iphone-5',\n",
       "  'hour': 20},\n",
       " {'author': 'iulienel',\n",
       "  'created_at': '2012-07-17T20:03:35Z',\n",
       "  'created_at_i': 1342555415,\n",
       "  'num_comments': 0,\n",
       "  'objectID': '4257596',\n",
       "  'points': 1,\n",
       "  'title': 'Best Fiction Writing Books',\n",
       "  'url': 'http://www.fantasyscroll.com/fiction-writing-books/#.UAXFDq6YKC0.hackernews',\n",
       "  'hour': 20},\n",
       " {'author': 'RandallBrown',\n",
       "  'created_at': '2012-08-02T05:06:53Z',\n",
       "  'created_at_i': 1343884013,\n",
       "  'num_comments': 0,\n",
       "  'objectID': '4327375',\n",
       "  'points': 1,\n",
       "  'title': 'Your developers use your app more than anyone in the world',\n",
       "  'url': 'http://fredandrandall.com/blog/2012/08/02/your-developers-use-your-app-more-than-anyone-in-the-world/',\n",
       "  'hour': 5},\n",
       " {'author': 'rspitzer',\n",
       "  'created_at': '2013-08-19T18:24:11Z',\n",
       "  'created_at_i': 1376936651,\n",
       "  'num_comments': 1,\n",
       "  'objectID': '6238747',\n",
       "  'points': 4,\n",
       "  'title': 'NYC Founder Institute Q&A',\n",
       "  'url': 'http://blog.nextjump.com/post/58703252452/top-mentor-q-a-from-founder-institute',\n",
       "  'hour': 18},\n",
       " {'author': 'naish',\n",
       "  'created_at': '2008-04-03T00:08:15Z',\n",
       "  'created_at_i': 1207181295,\n",
       "  'num_comments': 1,\n",
       "  'objectID': '153472',\n",
       "  'points': 3,\n",
       "  'title': 'FAROO - Could P2P Search Change the Game?',\n",
       "  'url': 'http://www.readwriteweb.com/archives/faroo_could_p2p_search_change_the_game.php',\n",
       "  'hour': 0},\n",
       " {'author': 'telefoonmobiele',\n",
       "  'created_at': '2010-06-11T12:46:07Z',\n",
       "  'created_at_i': 1276260367,\n",
       "  'num_comments': 0,\n",
       "  'objectID': '1423633',\n",
       "  'points': 1,\n",
       "  'story_text': 'Zoals we zien meer en meer beelden van de aankomende BlackBerry Bold 9800 Slider, het maakt sommige mensen kwijlen in afwachting van het bedrijf op zoek naar de industrile ontworpen smartphone. RIM heeft een lange weg afgelegd in het bewerken van een aantal prachtige zoek handsets die universeel worden geprezen',\n",
       "  'title': 'BlackBerry Curve 9999 concept houdt een letterlijke benadering van het ontwerp',\n",
       "  'url': 'http://www.telefoonmobiele.nl/blackberry-curve-9999-concept-houdt-een-letterlijke-benadering-van-het-ontwerp',\n",
       "  'hour': 12},\n",
       " {'author': 'AndreyKarpov',\n",
       "  'created_at': '2013-02-13T06:01:22Z',\n",
       "  'created_at_i': 1360735282,\n",
       "  'num_comments': 0,\n",
       "  'objectID': '5211679',\n",
       "  'points': 1,\n",
       "  'title': 'WinRT Daily News',\n",
       "  'url': 'http://paper.li/xyzzer/1326489519',\n",
       "  'hour': 6},\n",
       " {'author': 'MarkFeffer',\n",
       "  'created_at': '2012-03-20T21:50:38Z',\n",
       "  'created_at_i': 1332280238,\n",
       "  'num_comments': 0,\n",
       "  'objectID': '3731849',\n",
       "  'points': 1,\n",
       "  'title': 'Asuss Transformer Prime Laptop Built for Speed',\n",
       "  'url': 'http://news.dice.com/2012/03/20/asus-transformer-prime/',\n",
       "  'hour': 21}]"
      ]
     },
     "execution_count": 93,
     "metadata": {},
     "output_type": "execute_result"
    }
   ],
   "source": [
    "ds = dataset.map(lambda x: get_hour(x))\n",
    "ds.collect()"
   ]
  },
  {
   "cell_type": "code",
   "execution_count": 102,
   "metadata": {},
   "outputs": [
    {
     "data": {
      "text/plain": [
       "[(7, (1, 1)),\n",
       " (20, (2, 1)),\n",
       " (20, (1, 1)),\n",
       " (5, (1, 1)),\n",
       " (18, (4, 1)),\n",
       " (0, (3, 1)),\n",
       " (12, (1, 1)),\n",
       " (6, (1, 1)),\n",
       " (21, (1, 1))]"
      ]
     },
     "execution_count": 102,
     "metadata": {},
     "output_type": "execute_result"
    }
   ],
   "source": [
    "points_hour = ds.map(lambda x: (x['hour'], (x['points'], 1)))\n",
    "points_hour.collect()"
   ]
  },
  {
   "cell_type": "code",
   "execution_count": 106,
   "metadata": {},
   "outputs": [
    {
     "data": {
      "text/plain": [
       "[(0, (3, 1)),\n",
       " (18, (4, 1)),\n",
       " (20, (3, 2)),\n",
       " (12, (1, 1)),\n",
       " (5, (1, 1)),\n",
       " (21, (1, 1)),\n",
       " (6, (1, 1)),\n",
       " (7, (1, 1))]"
      ]
     },
     "execution_count": 106,
     "metadata": {},
     "output_type": "execute_result"
    }
   ],
   "source": [
    "A = points_hour.reduceByKey(lambda first, second: (first[0]+second[0], first[1]+second[1]))\n",
    "A.collect()"
   ]
  },
  {
   "cell_type": "code",
   "execution_count": 107,
   "metadata": {},
   "outputs": [
    {
     "data": {
      "text/plain": [
       "[(0, 3.0),\n",
       " (18, 4.0),\n",
       " (20, 1.5),\n",
       " (12, 1.0),\n",
       " (5, 1.0),\n",
       " (21, 1.0),\n",
       " (6, 1.0),\n",
       " (7, 1.0)]"
      ]
     },
     "execution_count": 107,
     "metadata": {},
     "output_type": "execute_result"
    }
   ],
   "source": [
    "B = A.map(lambda x: (x[0], x[1][0]/x[1][1]))\n",
    "B.collect()"
   ]
  },
  {
   "cell_type": "markdown",
   "metadata": {},
   "source": [
    "## `get_proportion_of_scores`"
   ]
  },
  {
   "cell_type": "code",
   "execution_count": 138,
   "metadata": {},
   "outputs": [],
   "source": [
    "dataset = pyspark.SparkContext.getOrCreate().parallelize([{'author': 'alexleavitt', 'created_at': '2011-07-14T02:05:51Z', 'created_at_i': 1310609151, 'num_comments': 0, 'objectID': '2761463', 'points': 2, 'title': 'Google Plus, Minus Social Value', 'url': 'http://doalchemy.org/2011/07/google-plus-minus-social-value/'}, {'author': 'erichurkman', 'created_at': '2013-12-23T21:05:09Z', 'created_at_i': 1387832709, 'num_comments': 22, 'objectID': '6956507', 'points': 41, 'title': 'Alan Turing pardoned [pdf]', 'url': 'http://cryptome.org/2013/12/turing-pardon.pdf'}, {'author': 'neumino', 'created_at': '2014-01-29T20:18:37Z', 'created_at_i': 1391026717, 'num_comments': 24, 'objectID': '7146502', 'points': 53, 'title': 'Paving the way for the new Node.js', 'url': 'http://blog.justonepixel.com/geek/2014/01/27/paving-the-way-for-the-new-nodejs/'}, {'author': 'nreece', 'created_at': '2008-01-31T09:14:19Z', 'created_at_i': 1201770859, 'num_comments': 0, 'objectID': '107333', 'points': 2, 'title': \"Gartner's forecast for IT sector for 2008\", 'url': 'http://www.rediff.com/money/2008/jan/31infotech.htm'}, {'author': 'collistaeed', 'created_at': '2010-03-23T21:47:35Z', 'created_at_i': 1269380855, 'num_comments': 0, 'objectID': '1214142', 'points': 1, 'title': 'Top 5 Web Apps to File Taxes Online before April 15', 'url': 'http://web.appstorm.net/roundups/top-5-web-apps-to-file-taxes-online/'}, {'author': 'goldenhorse', 'created_at': '2010-08-13T19:06:31Z', 'created_at_i': 1281726391, 'num_comments': 0, 'objectID': '1601906', 'points': 1, 'title': 'How Chvez tries to hide the truth about his government', 'url': 'http://www.washingtonpost.com/wp-dyn/content/article/2010/08/12/AR2010081205675.html?wpisrc=nl_pmopinions'}, {'author': 'tambourine_man', 'created_at': '2012-03-12T21:14:14Z', 'created_at_i': 1331586854, 'num_comments': 1, 'objectID': '3695587', 'points': 7, 'title': 'Astronomy Picture of the Day', 'url': 'http://apod.nasa.gov/apod/'}, {'author': 'jmtame', 'created_at': '2008-11-26T21:10:53Z', 'created_at_i': 1227733853, 'num_comments': 0, 'objectID': '378061', 'points': 2, 'title': 'What we can learn from spaghetti sauce (by Malcolm Gladwell)', 'url': 'http://www.youtube.com/watch?v=iIiAAhUeR6Y'}, {'author': 'joeyespo', 'created_at': '2012-07-06T19:00:27Z', 'created_at_i': 1341601227, 'num_comments': 0, 'objectID': '4209155', 'points': 1, 'title': 'Javaism, Exceptions, and Logging', 'url': 'http://tomerfiliba.com/blog/Javaism/'}, {'author': 'econti', 'created_at': '2013-11-18T16:41:56Z', 'created_at_i': 1384792916, 'num_comments': 1, 'objectID': '6755152', 'points': 1, 'title': \"See all of the offensive things you've ever said on Facebook in one click\", 'url': 'http://www.yourdirtymouth.com'}, {'author': 'raheemm', 'created_at': '2011-02-24T16:21:11Z', 'created_at_i': 1298564471, 'num_comments': 0, 'objectID': '2258549', 'points': 1, 'title': 'Honest Advice from the CEO - tips on starting, growth and productivity', 'url': 'http://www.itleaderstoday.com/honest-advice-from-the-ceo/'}, {'author': 'projuce', 'created_at': '2012-11-17T15:00:26Z', 'created_at_i': 1353164426, 'num_comments': 0, 'objectID': '4798191', 'points': 1, 'title': 'Park at Mine: No carparks close to my favorite sporting events #startupweekend', 'url': 'http://www.surveymonkey.com/s/ZSZZZHM'}])"
   ]
  },
  {
   "cell_type": "code",
   "execution_count": 139,
   "metadata": {},
   "outputs": [],
   "source": [
    "dataset = dataset.map(lambda x: get_hour(x))"
   ]
  },
  {
   "cell_type": "code",
   "execution_count": 140,
   "metadata": {},
   "outputs": [
    {
     "data": {
      "text/plain": [
       "[{'author': 'alexleavitt',\n",
       "  'created_at': '2011-07-14T02:05:51Z',\n",
       "  'created_at_i': 1310609151,\n",
       "  'num_comments': 0,\n",
       "  'objectID': '2761463',\n",
       "  'points': 2,\n",
       "  'title': 'Google Plus, Minus Social Value',\n",
       "  'url': 'http://doalchemy.org/2011/07/google-plus-minus-social-value/',\n",
       "  'hour': 2},\n",
       " {'author': 'erichurkman',\n",
       "  'created_at': '2013-12-23T21:05:09Z',\n",
       "  'created_at_i': 1387832709,\n",
       "  'num_comments': 22,\n",
       "  'objectID': '6956507',\n",
       "  'points': 41,\n",
       "  'title': 'Alan Turing pardoned [pdf]',\n",
       "  'url': 'http://cryptome.org/2013/12/turing-pardon.pdf',\n",
       "  'hour': 21},\n",
       " {'author': 'neumino',\n",
       "  'created_at': '2014-01-29T20:18:37Z',\n",
       "  'created_at_i': 1391026717,\n",
       "  'num_comments': 24,\n",
       "  'objectID': '7146502',\n",
       "  'points': 53,\n",
       "  'title': 'Paving the way for the new Node.js',\n",
       "  'url': 'http://blog.justonepixel.com/geek/2014/01/27/paving-the-way-for-the-new-nodejs/',\n",
       "  'hour': 20},\n",
       " {'author': 'nreece',\n",
       "  'created_at': '2008-01-31T09:14:19Z',\n",
       "  'created_at_i': 1201770859,\n",
       "  'num_comments': 0,\n",
       "  'objectID': '107333',\n",
       "  'points': 2,\n",
       "  'title': \"Gartner's forecast for IT sector for 2008\",\n",
       "  'url': 'http://www.rediff.com/money/2008/jan/31infotech.htm',\n",
       "  'hour': 9},\n",
       " {'author': 'collistaeed',\n",
       "  'created_at': '2010-03-23T21:47:35Z',\n",
       "  'created_at_i': 1269380855,\n",
       "  'num_comments': 0,\n",
       "  'objectID': '1214142',\n",
       "  'points': 1,\n",
       "  'title': 'Top 5 Web Apps to File Taxes Online before April 15',\n",
       "  'url': 'http://web.appstorm.net/roundups/top-5-web-apps-to-file-taxes-online/',\n",
       "  'hour': 21}]"
      ]
     },
     "execution_count": 140,
     "metadata": {},
     "output_type": "execute_result"
    }
   ],
   "source": [
    "dataset.take(5)"
   ]
  },
  {
   "cell_type": "code",
   "execution_count": 143,
   "metadata": {},
   "outputs": [
    {
     "data": {
      "text/plain": [
       "[(2, (1, 0)),\n",
       " (21, (1, 0)),\n",
       " (20, (1, 0)),\n",
       " (9, (1, 0)),\n",
       " (21, (1, 0)),\n",
       " (19, (1, 0)),\n",
       " (21, (1, 0)),\n",
       " (21, (1, 0)),\n",
       " (19, (1, 0)),\n",
       " (16, (1, 0)),\n",
       " (16, (1, 0)),\n",
       " (15, (1, 0))]"
      ]
     },
     "execution_count": 143,
     "metadata": {},
     "output_type": "execute_result"
    }
   ],
   "source": [
    "ds = dataset.map(lambda x: (x['hour'], (1, 1 if x['points']>200 else 0)))\n",
    "ds.collect()"
   ]
  },
  {
   "cell_type": "code",
   "execution_count": 144,
   "metadata": {},
   "outputs": [
    {
     "data": {
      "text/plain": [
       "[(16, (2, 0)),\n",
       " (9, (1, 0)),\n",
       " (2, (1, 0)),\n",
       " (19, (2, 0)),\n",
       " (20, (1, 0)),\n",
       " (21, (4, 0)),\n",
       " (15, (1, 0))]"
      ]
     },
     "execution_count": 144,
     "metadata": {},
     "output_type": "execute_result"
    }
   ],
   "source": [
    "A = ds.reduceByKey(lambda left, right: (left[0]+right[0], left[1]+right[1]))\n",
    "A.collect()"
   ]
  },
  {
   "cell_type": "code",
   "execution_count": 145,
   "metadata": {},
   "outputs": [
    {
     "data": {
      "text/plain": [
       "[(16, 0.0), (9, 0.0), (2, 0.0), (19, 0.0), (20, 0.0), (21, 0.0), (15, 0.0)]"
      ]
     },
     "execution_count": 145,
     "metadata": {},
     "output_type": "execute_result"
    }
   ],
   "source": [
    "B = A.map(lambda x: (x[0], x[1][1]/x[1][0]))\n",
    "B.collect()"
   ]
  },
  {
   "cell_type": "markdown",
   "metadata": {},
   "source": [
    "## `get_proportion_of_success`"
   ]
  },
  {
   "cell_type": "code",
   "execution_count": null,
   "metadata": {},
   "outputs": [],
   "source": []
  },
  {
   "cell_type": "code",
   "execution_count": 162,
   "metadata": {},
   "outputs": [],
   "source": [
    "def get_words(x):\n",
    "    line = x['title']\n",
    "    adj_title = re.compile('\\w+').findall(line)\n",
    "    x['len_title'] = len(adj_title)\n",
    "    return x"
   ]
  },
  {
   "cell_type": "code",
   "execution_count": 163,
   "metadata": {},
   "outputs": [],
   "source": [
    "dataset = pyspark.SparkContext.getOrCreate().parallelize([{'author': 'alicesmith123', 'created_at': '2010-09-27T07:13:18Z', 'created_at_i': 1285571598, 'num_comments': 0, 'objectID': '1730982', 'points': 1, 'title': 'News Archive : Puma Shoes Outlet', 'url': 'http://www.pumasneakeronsale.com/news_archiv.html'}, {'author': 'jhony_d', 'created_at': '2012-09-26T20:54:18Z', 'created_at_i': 1348692858, 'num_comments': 0, 'objectID': '4577982', 'points': 2, 'title': 'Scuffgate: Will Apple have to recall the iPhone 5?', 'url': 'http://www.extremetech.com/electronics/136658-scuffgate-will-apple-have-to-recall-the-iphone-5'}, {'author': 'iulienel', 'created_at': '2012-07-17T20:03:35Z', 'created_at_i': 1342555415, 'num_comments': 0, 'objectID': '4257596', 'points': 1, 'title': 'Best Fiction Writing Books', 'url': 'http://www.fantasyscroll.com/fiction-writing-books/#.UAXFDq6YKC0.hackernews'}, {'author': 'RandallBrown', 'created_at': '2012-08-02T05:06:53Z', 'created_at_i': 1343884013, 'num_comments': 0, 'objectID': '4327375', 'points': 1, 'title': 'Your developers use your app more than anyone in the world', 'url': 'http://fredandrandall.com/blog/2012/08/02/your-developers-use-your-app-more-than-anyone-in-the-world/'}, {'author': 'rspitzer', 'created_at': '2013-08-19T18:24:11Z', 'created_at_i': 1376936651, 'num_comments': 1, 'objectID': '6238747', 'points': 4, 'title': 'NYC Founder Institute Q&A', 'url': 'http://blog.nextjump.com/post/58703252452/top-mentor-q-a-from-founder-institute'}, {'author': 'naish', 'created_at': '2008-04-03T00:08:15Z', 'created_at_i': 1207181295, 'num_comments': 1, 'objectID': '153472', 'points': 3, 'title': 'FAROO - Could P2P Search Change the Game?', 'url': 'http://www.readwriteweb.com/archives/faroo_could_p2p_search_change_the_game.php'}, {'author': 'telefoonmobiele', 'created_at': '2010-06-11T12:46:07Z', 'created_at_i': 1276260367, 'num_comments': 0, 'objectID': '1423633', 'points': 1, 'story_text': 'Zoals we zien meer en meer beelden van de aankomende BlackBerry Bold 9800 Slider, het maakt sommige mensen kwijlen in afwachting van het bedrijf op zoek naar de industrile ontworpen smartphone. RIM heeft een lange weg afgelegd in het bewerken van een aantal prachtige zoek handsets die universeel worden geprezen', 'title': 'BlackBerry Curve 9999 concept houdt een letterlijke benadering van het ontwerp', 'url': 'http://www.telefoonmobiele.nl/blackberry-curve-9999-concept-houdt-een-letterlijke-benadering-van-het-ontwerp'}, {'author': 'AndreyKarpov', 'created_at': '2013-02-13T06:01:22Z', 'created_at_i': 1360735282, 'num_comments': 0, 'objectID': '5211679', 'points': 1, 'title': 'WinRT Daily News', 'url': 'http://paper.li/xyzzer/1326489519'}, {'author': 'MarkFeffer', 'created_at': '2012-03-20T21:50:38Z', 'created_at_i': 1332280238, 'num_comments': 0, 'objectID': '3731849', 'points': 1, 'title': 'Asuss Transformer Prime Laptop Built for Speed', 'url': 'http://news.dice.com/2012/03/20/asus-transformer-prime/'}])"
   ]
  },
  {
   "cell_type": "code",
   "execution_count": 164,
   "metadata": {},
   "outputs": [
    {
     "data": {
      "text/plain": [
       "[{'author': 'alicesmith123',\n",
       "  'created_at': '2010-09-27T07:13:18Z',\n",
       "  'created_at_i': 1285571598,\n",
       "  'num_comments': 0,\n",
       "  'objectID': '1730982',\n",
       "  'points': 1,\n",
       "  'title': 'News Archive : Puma Shoes Outlet',\n",
       "  'url': 'http://www.pumasneakeronsale.com/news_archiv.html'},\n",
       " {'author': 'jhony_d',\n",
       "  'created_at': '2012-09-26T20:54:18Z',\n",
       "  'created_at_i': 1348692858,\n",
       "  'num_comments': 0,\n",
       "  'objectID': '4577982',\n",
       "  'points': 2,\n",
       "  'title': 'Scuffgate: Will Apple have to recall the iPhone 5?',\n",
       "  'url': 'http://www.extremetech.com/electronics/136658-scuffgate-will-apple-have-to-recall-the-iphone-5'},\n",
       " {'author': 'iulienel',\n",
       "  'created_at': '2012-07-17T20:03:35Z',\n",
       "  'created_at_i': 1342555415,\n",
       "  'num_comments': 0,\n",
       "  'objectID': '4257596',\n",
       "  'points': 1,\n",
       "  'title': 'Best Fiction Writing Books',\n",
       "  'url': 'http://www.fantasyscroll.com/fiction-writing-books/#.UAXFDq6YKC0.hackernews'},\n",
       " {'author': 'RandallBrown',\n",
       "  'created_at': '2012-08-02T05:06:53Z',\n",
       "  'created_at_i': 1343884013,\n",
       "  'num_comments': 0,\n",
       "  'objectID': '4327375',\n",
       "  'points': 1,\n",
       "  'title': 'Your developers use your app more than anyone in the world',\n",
       "  'url': 'http://fredandrandall.com/blog/2012/08/02/your-developers-use-your-app-more-than-anyone-in-the-world/'},\n",
       " {'author': 'rspitzer',\n",
       "  'created_at': '2013-08-19T18:24:11Z',\n",
       "  'created_at_i': 1376936651,\n",
       "  'num_comments': 1,\n",
       "  'objectID': '6238747',\n",
       "  'points': 4,\n",
       "  'title': 'NYC Founder Institute Q&A',\n",
       "  'url': 'http://blog.nextjump.com/post/58703252452/top-mentor-q-a-from-founder-institute'}]"
      ]
     },
     "execution_count": 164,
     "metadata": {},
     "output_type": "execute_result"
    }
   ],
   "source": [
    "dataset.take(5)"
   ]
  },
  {
   "cell_type": "code",
   "execution_count": 166,
   "metadata": {},
   "outputs": [
    {
     "data": {
      "text/plain": [
       "[{'author': 'alicesmith123',\n",
       "  'created_at': '2010-09-27T07:13:18Z',\n",
       "  'created_at_i': 1285571598,\n",
       "  'num_comments': 0,\n",
       "  'objectID': '1730982',\n",
       "  'points': 1,\n",
       "  'title': 'News Archive : Puma Shoes Outlet',\n",
       "  'url': 'http://www.pumasneakeronsale.com/news_archiv.html',\n",
       "  'len_title': 5},\n",
       " {'author': 'jhony_d',\n",
       "  'created_at': '2012-09-26T20:54:18Z',\n",
       "  'created_at_i': 1348692858,\n",
       "  'num_comments': 0,\n",
       "  'objectID': '4577982',\n",
       "  'points': 2,\n",
       "  'title': 'Scuffgate: Will Apple have to recall the iPhone 5?',\n",
       "  'url': 'http://www.extremetech.com/electronics/136658-scuffgate-will-apple-have-to-recall-the-iphone-5',\n",
       "  'len_title': 9},\n",
       " {'author': 'iulienel',\n",
       "  'created_at': '2012-07-17T20:03:35Z',\n",
       "  'created_at_i': 1342555415,\n",
       "  'num_comments': 0,\n",
       "  'objectID': '4257596',\n",
       "  'points': 1,\n",
       "  'title': 'Best Fiction Writing Books',\n",
       "  'url': 'http://www.fantasyscroll.com/fiction-writing-books/#.UAXFDq6YKC0.hackernews',\n",
       "  'len_title': 4}]"
      ]
     },
     "execution_count": 166,
     "metadata": {},
     "output_type": "execute_result"
    }
   ],
   "source": [
    "dataset = dataset.map(lambda x: get_words(x))\n",
    "dataset.take(3)"
   ]
  },
  {
   "cell_type": "code",
   "execution_count": 169,
   "metadata": {},
   "outputs": [
    {
     "data": {
      "text/plain": [
       "[(5, (1, 0)), (9, (1, 0)), (4, (1, 0)), (11, (1, 0)), (5, (1, 0))]"
      ]
     },
     "execution_count": 169,
     "metadata": {},
     "output_type": "execute_result"
    }
   ],
   "source": [
    "A = dataset.map(lambda x: (x['len_title'], (1, 1 if x['points']>200 else 0)))\n",
    "A.take(5)"
   ]
  },
  {
   "cell_type": "code",
   "execution_count": 170,
   "metadata": {},
   "outputs": [
    {
     "data": {
      "text/plain": [
       "[(9, (1, 0)), (11, (2, 0)), (3, (1, 0)), (4, (1, 0)), (5, (2, 0))]"
      ]
     },
     "execution_count": 170,
     "metadata": {},
     "output_type": "execute_result"
    }
   ],
   "source": [
    "B = A.reduceByKey(lambda left, right: (left[0]+right[0], left[1]+right[1]) )\n",
    "B.take(5)"
   ]
  },
  {
   "cell_type": "code",
   "execution_count": 171,
   "metadata": {},
   "outputs": [
    {
     "data": {
      "text/plain": [
       "[(9, 0.0), (11, 0.0), (3, 0.0), (4, 0.0), (5, 0.0)]"
      ]
     },
     "execution_count": 171,
     "metadata": {},
     "output_type": "execute_result"
    }
   ],
   "source": [
    "out = B.map(lambda x: (x[0], x[1][1]/x[1][0]))\n",
    "out.take(5)"
   ]
  },
  {
   "cell_type": "markdown",
   "metadata": {},
   "source": [
    "## `get_title_length_distribution`"
   ]
  },
  {
   "cell_type": "code",
   "execution_count": 174,
   "metadata": {},
   "outputs": [],
   "source": [
    "dataset = pyspark.SparkContext.getOrCreate().parallelize([{'author': 'alicesmith123', 'created_at': '2010-09-27T07:13:18Z', 'created_at_i': 1285571598, 'num_comments': 0, 'objectID': '1730982', 'points': 1, 'title': 'News Archive : Puma Shoes Outlet', 'url': 'http://www.pumasneakeronsale.com/news_archiv.html'}, {'author': 'jhony_d', 'created_at': '2012-09-26T20:54:18Z', 'created_at_i': 1348692858, 'num_comments': 0, 'objectID': '4577982', 'points': 2, 'title': 'Scuffgate: Will Apple have to recall the iPhone 5?', 'url': 'http://www.extremetech.com/electronics/136658-scuffgate-will-apple-have-to-recall-the-iphone-5'}, {'author': 'iulienel', 'created_at': '2012-07-17T20:03:35Z', 'created_at_i': 1342555415, 'num_comments': 0, 'objectID': '4257596', 'points': 1, 'title': 'Best Fiction Writing Books', 'url': 'http://www.fantasyscroll.com/fiction-writing-books/#.UAXFDq6YKC0.hackernews'}, {'author': 'RandallBrown', 'created_at': '2012-08-02T05:06:53Z', 'created_at_i': 1343884013, 'num_comments': 0, 'objectID': '4327375', 'points': 1, 'title': 'Your developers use your app more than anyone in the world', 'url': 'http://fredandrandall.com/blog/2012/08/02/your-developers-use-your-app-more-than-anyone-in-the-world/'}, {'author': 'rspitzer', 'created_at': '2013-08-19T18:24:11Z', 'created_at_i': 1376936651, 'num_comments': 1, 'objectID': '6238747', 'points': 4, 'title': 'NYC Founder Institute Q&A', 'url': 'http://blog.nextjump.com/post/58703252452/top-mentor-q-a-from-founder-institute'}, {'author': 'naish', 'created_at': '2008-04-03T00:08:15Z', 'created_at_i': 1207181295, 'num_comments': 1, 'objectID': '153472', 'points': 3, 'title': 'FAROO - Could P2P Search Change the Game?', 'url': 'http://www.readwriteweb.com/archives/faroo_could_p2p_search_change_the_game.php'}, {'author': 'telefoonmobiele', 'created_at': '2010-06-11T12:46:07Z', 'created_at_i': 1276260367, 'num_comments': 0, 'objectID': '1423633', 'points': 1, 'story_text': 'Zoals we zien meer en meer beelden van de aankomende BlackBerry Bold 9800 Slider, het maakt sommige mensen kwijlen in afwachting van het bedrijf op zoek naar de industrile ontworpen smartphone. RIM heeft een lange weg afgelegd in het bewerken van een aantal prachtige zoek handsets die universeel worden geprezen', 'title': 'BlackBerry Curve 9999 concept houdt een letterlijke benadering van het ontwerp', 'url': 'http://www.telefoonmobiele.nl/blackberry-curve-9999-concept-houdt-een-letterlijke-benadering-van-het-ontwerp'}, {'author': 'AndreyKarpov', 'created_at': '2013-02-13T06:01:22Z', 'created_at_i': 1360735282, 'num_comments': 0, 'objectID': '5211679', 'points': 1, 'title': 'WinRT Daily News', 'url': 'http://paper.li/xyzzer/1326489519'}, {'author': 'MarkFeffer', 'created_at': '2012-03-20T21:50:38Z', 'created_at_i': 1332280238, 'num_comments': 0, 'objectID': '3731849', 'points': 1, 'title': 'Asuss Transformer Prime Laptop Built for Speed', 'url': 'http://news.dice.com/2012/03/20/asus-transformer-prime/'}])"
   ]
  },
  {
   "cell_type": "code",
   "execution_count": 175,
   "metadata": {},
   "outputs": [
    {
     "data": {
      "text/plain": [
       "[{'author': 'alicesmith123',\n",
       "  'created_at': '2010-09-27T07:13:18Z',\n",
       "  'created_at_i': 1285571598,\n",
       "  'num_comments': 0,\n",
       "  'objectID': '1730982',\n",
       "  'points': 1,\n",
       "  'title': 'News Archive : Puma Shoes Outlet',\n",
       "  'url': 'http://www.pumasneakeronsale.com/news_archiv.html'}]"
      ]
     },
     "execution_count": 175,
     "metadata": {},
     "output_type": "execute_result"
    }
   ],
   "source": [
    "dataset.take(1)"
   ]
  },
  {
   "cell_type": "code",
   "execution_count": 176,
   "metadata": {},
   "outputs": [
    {
     "data": {
      "text/plain": [
       "{'author': 'alicesmith123',\n",
       " 'created_at': '2010-09-27T07:13:18Z',\n",
       " 'created_at_i': 1285571598,\n",
       " 'num_comments': 0,\n",
       " 'objectID': '1730982',\n",
       " 'points': 1,\n",
       " 'title': 'News Archive : Puma Shoes Outlet',\n",
       " 'url': 'http://www.pumasneakeronsale.com/news_archiv.html',\n",
       " 'len_title': 5}"
      ]
     },
     "execution_count": 176,
     "metadata": {},
     "output_type": "execute_result"
    }
   ],
   "source": [
    "dataset = dataset.map(lambda x: get_words(x))\n",
    "dataset.first()"
   ]
  },
  {
   "cell_type": "code",
   "execution_count": 178,
   "metadata": {},
   "outputs": [
    {
     "data": {
      "text/plain": [
       "[(5, 1), (9, 1), (4, 1), (11, 1), (5, 1), (7, 1), (11, 1), (3, 1), (7, 1)]"
      ]
     },
     "execution_count": 178,
     "metadata": {},
     "output_type": "execute_result"
    }
   ],
   "source": [
    "A = dataset.map(lambda x: (x['len_title'], 1))\n",
    "A.take(10)"
   ]
  },
  {
   "cell_type": "code",
   "execution_count": 179,
   "metadata": {},
   "outputs": [
    {
     "data": {
      "text/plain": [
       "[(9, 1), (11, 2), (3, 1), (4, 1), (5, 2), (7, 2)]"
      ]
     },
     "execution_count": 179,
     "metadata": {},
     "output_type": "execute_result"
    }
   ],
   "source": [
    "B = A.reduceByKey(lambda x, y: x+y)\n",
    "B.collect()"
   ]
  },
  {
   "cell_type": "code",
   "execution_count": null,
   "metadata": {},
   "outputs": [],
   "source": []
  }
 ],
 "metadata": {
  "kernelspec": {
   "display_name": "Python 3",
   "language": "python",
   "name": "python3"
  },
  "language_info": {
   "codemirror_mode": {
    "name": "ipython",
    "version": 3
   },
   "file_extension": ".py",
   "mimetype": "text/x-python",
   "name": "python",
   "nbconvert_exporter": "python",
   "pygments_lexer": "ipython3",
   "version": "3.7.3"
  },
  "toc": {
   "base_numbering": 1,
   "nav_menu": {},
   "number_sections": true,
   "sideBar": true,
   "skip_h1_title": true,
   "title_cell": "Table of Contents",
   "title_sidebar": "Contents",
   "toc_cell": false,
   "toc_position": {
    "height": "calc(100% - 180px)",
    "left": "10px",
    "top": "150px",
    "width": "229.261px"
   },
   "toc_section_display": true,
   "toc_window_display": true
  }
 },
 "nbformat": 4,
 "nbformat_minor": 2
}
